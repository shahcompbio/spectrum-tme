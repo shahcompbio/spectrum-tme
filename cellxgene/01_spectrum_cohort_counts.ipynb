{
 "cells": [
  {
   "cell_type": "code",
   "execution_count": 1,
   "id": "fc1f81e4-ed50-44c8-98aa-240590e2e7de",
   "metadata": {},
   "outputs": [],
   "source": [
    "import scanpy as sc\n",
    "import numpy as np\n",
    "import scipy\n",
    "import sys\n",
    "from tqdm import tqdm"
   ]
  },
  {
   "cell_type": "markdown",
   "id": "1555a3f3-b5a7-451c-861c-4c1ebdf0c89f",
   "metadata": {},
   "source": [
    "This notebook we generate a normalized count matrix from the integrated seurat file masking all other genes as zeroes. Note this requires >300gb memory."
   ]
  },
  {
   "cell_type": "code",
   "execution_count": 2,
   "id": "0e7a2859-c857-4808-affe-b90f5c2c6c23",
   "metadata": {},
   "outputs": [
    {
     "name": "stderr",
     "output_type": "stream",
     "text": [
      "/home/zatzmanm/work/miniconda3/envs/infercnvpy/lib/python3.10/site-packages/anndata/compat/__init__.py:232: FutureWarning: Moving element from .uns['neighbors']['distances'] to .obsp['distances'].\n",
      "\n",
      "This is where adjacency matrices should go now.\n",
      "  warn(\n"
     ]
    },
    {
     "data": {
      "text/plain": [
       "AnnData object with n_obs × n_vars = 929690 × 3000\n",
       "    obs: 'percent.mt', 'percent.rb', 'doublet', 'sample', 'batch', 'S.Score', 'G2M.Score', 'Phase', 'CC.Diff', 'cell_type', 'nCount_RNA', 'nFeature_RNA', 'doublet_score', 'cell_type_super', 'patient_id', 'seurat_clusters', 'cell_id'\n",
       "    var: 'gene.ids', 'feature.types', 'highly.variable', 'mvp.mean', 'mvp.dispersion', 'mvp.dispersion.scaled', 'highly.variable.nbatches', 'highly.variable.intersection', 'vst.mean', 'vst.variance', 'vst.variance.expected', 'vst.variance.standardized', 'vst.variable'\n",
       "    uns: 'neighbors'\n",
       "    obsm: 'X_pca', 'X_umap50'\n",
       "    varm: 'PCs'\n",
       "    obsp: 'distances'"
      ]
     },
     "execution_count": 2,
     "metadata": {},
     "output_type": "execute_result"
    }
   ],
   "source": [
    "# Load integrated data\n",
    "adata = sc.read_h5ad(\"./objects/integrated_seurat.h5ad\")\n",
    "adata"
   ]
  },
  {
   "cell_type": "code",
   "execution_count": 3,
   "id": "416e127f-f58a-4457-90a3-b738c72a6198",
   "metadata": {},
   "outputs": [
    {
     "data": {
      "text/plain": [
       "array([[-0.18643191, -0.38347755,  0.88487009, ..., -0.47285926,\n",
       "        -0.48092199, -0.14139366],\n",
       "       [-0.18643191, -0.38347755, -0.32239258, ..., -0.47285926,\n",
       "        -0.48092199, -0.14139366],\n",
       "       [-0.18643191, -0.38347755, -0.52133864, ..., -0.47285926,\n",
       "        -0.48092199, -0.14139366],\n",
       "       ...,\n",
       "       [-0.18643191, -0.38347755,  2.28687729, ...,  2.31006705,\n",
       "         2.08383455, -0.14139366],\n",
       "       [-0.18643191, -0.38347755, -0.52186927, ...,  0.73835389,\n",
       "         0.97856159, -0.14139366],\n",
       "       [-0.18643191, -0.38347755,  1.64683753, ...,  2.18301091,\n",
       "         2.50387491, -0.14139366]])"
      ]
     },
     "execution_count": 3,
     "metadata": {},
     "output_type": "execute_result"
    }
   ],
   "source": [
    "# 3000 genes in X\n",
    "adata.X"
   ]
  },
  {
   "cell_type": "code",
   "execution_count": 4,
   "id": "55231665-31f7-4738-86c1-39c240d9c6e6",
   "metadata": {},
   "outputs": [
    {
     "data": {
      "text/plain": [
       "AnnData object with n_obs × n_vars = 1270951 × 32175\n",
       "    var: 'gene_ids', 'feature_types'"
      ]
     },
     "execution_count": 4,
     "metadata": {},
     "output_type": "execute_result"
    }
   ],
   "source": [
    "raw_counts = sc.read_h5ad(filename=\"/work/shah/isabl_data_lake/analyses/84/78/8478/RNASCP/RNASCP/BUILD_MATRIX/fork0/files/matrix.h5\")\n",
    "\n",
    "raw_counts"
   ]
  },
  {
   "cell_type": "code",
   "execution_count": 5,
   "id": "757cdf9f-a8b5-498e-9344-4aef20dd0d9e",
   "metadata": {},
   "outputs": [
    {
     "data": {
      "text/html": [
       "<div>\n",
       "<style scoped>\n",
       "    .dataframe tbody tr th:only-of-type {\n",
       "        vertical-align: middle;\n",
       "    }\n",
       "\n",
       "    .dataframe tbody tr th {\n",
       "        vertical-align: top;\n",
       "    }\n",
       "\n",
       "    .dataframe thead th {\n",
       "        text-align: right;\n",
       "    }\n",
       "</style>\n",
       "<table border=\"1\" class=\"dataframe\">\n",
       "  <thead>\n",
       "    <tr style=\"text-align: right;\">\n",
       "      <th></th>\n",
       "      <th>percent.mt</th>\n",
       "      <th>percent.rb</th>\n",
       "      <th>doublet</th>\n",
       "      <th>sample</th>\n",
       "      <th>batch</th>\n",
       "      <th>S.Score</th>\n",
       "      <th>G2M.Score</th>\n",
       "      <th>Phase</th>\n",
       "      <th>CC.Diff</th>\n",
       "      <th>cell_type</th>\n",
       "      <th>nCount_RNA</th>\n",
       "      <th>nFeature_RNA</th>\n",
       "      <th>doublet_score</th>\n",
       "      <th>cell_type_super</th>\n",
       "      <th>patient_id</th>\n",
       "      <th>seurat_clusters</th>\n",
       "      <th>cell_id</th>\n",
       "    </tr>\n",
       "  </thead>\n",
       "  <tbody>\n",
       "    <tr>\n",
       "      <th>SPECTRUM-OV-107_S1_CD45N_RIGHT_ADNEXA_AAACCCACACTGGAAG</th>\n",
       "      <td>12.332594</td>\n",
       "      <td>28.637371</td>\n",
       "      <td>0</td>\n",
       "      <td>237</td>\n",
       "      <td>35</td>\n",
       "      <td>-0.100605</td>\n",
       "      <td>0.296480</td>\n",
       "      <td>1</td>\n",
       "      <td>-0.397085</td>\n",
       "      <td>Ovarian.cancer.cell</td>\n",
       "      <td>32929</td>\n",
       "      <td>5833</td>\n",
       "      <td>0.147368</td>\n",
       "      <td>Ovarian.cancer.super</td>\n",
       "      <td>35</td>\n",
       "      <td>3</td>\n",
       "      <td>SPECTRUM-OV-107_S1_CD45N_RIGHT_ADNEXA_AAACCCAC...</td>\n",
       "    </tr>\n",
       "    <tr>\n",
       "      <th>SPECTRUM-OV-107_S1_CD45N_RIGHT_ADNEXA_AAACGAAGTTCGAGCC</th>\n",
       "      <td>22.090894</td>\n",
       "      <td>17.706761</td>\n",
       "      <td>0</td>\n",
       "      <td>237</td>\n",
       "      <td>35</td>\n",
       "      <td>-0.281512</td>\n",
       "      <td>0.916535</td>\n",
       "      <td>1</td>\n",
       "      <td>-1.198046</td>\n",
       "      <td>Ovarian.cancer.cell</td>\n",
       "      <td>31135</td>\n",
       "      <td>5788</td>\n",
       "      <td>0.223022</td>\n",
       "      <td>Ovarian.cancer.super</td>\n",
       "      <td>35</td>\n",
       "      <td>3</td>\n",
       "      <td>SPECTRUM-OV-107_S1_CD45N_RIGHT_ADNEXA_AAACGAAG...</td>\n",
       "    </tr>\n",
       "    <tr>\n",
       "      <th>SPECTRUM-OV-107_S1_CD45N_RIGHT_ADNEXA_AAACGAAGTTTCCATT</th>\n",
       "      <td>19.802657</td>\n",
       "      <td>20.105933</td>\n",
       "      <td>0</td>\n",
       "      <td>237</td>\n",
       "      <td>35</td>\n",
       "      <td>0.404795</td>\n",
       "      <td>-0.044553</td>\n",
       "      <td>2</td>\n",
       "      <td>0.449348</td>\n",
       "      <td>Ovarian.cancer.cell</td>\n",
       "      <td>23411</td>\n",
       "      <td>4881</td>\n",
       "      <td>0.030928</td>\n",
       "      <td>Ovarian.cancer.super</td>\n",
       "      <td>35</td>\n",
       "      <td>3</td>\n",
       "      <td>SPECTRUM-OV-107_S1_CD45N_RIGHT_ADNEXA_AAACGAAG...</td>\n",
       "    </tr>\n",
       "    <tr>\n",
       "      <th>SPECTRUM-OV-107_S1_CD45N_RIGHT_ADNEXA_AAACGCTCACAACGAG</th>\n",
       "      <td>16.439193</td>\n",
       "      <td>21.430026</td>\n",
       "      <td>0</td>\n",
       "      <td>237</td>\n",
       "      <td>35</td>\n",
       "      <td>-0.031933</td>\n",
       "      <td>0.058618</td>\n",
       "      <td>1</td>\n",
       "      <td>-0.090550</td>\n",
       "      <td>Ovarian.cancer.cell</td>\n",
       "      <td>9818</td>\n",
       "      <td>3102</td>\n",
       "      <td>0.109677</td>\n",
       "      <td>Ovarian.cancer.super</td>\n",
       "      <td>35</td>\n",
       "      <td>3</td>\n",
       "      <td>SPECTRUM-OV-107_S1_CD45N_RIGHT_ADNEXA_AAACGCTC...</td>\n",
       "    </tr>\n",
       "    <tr>\n",
       "      <th>SPECTRUM-OV-107_S1_CD45N_RIGHT_ADNEXA_AAAGAACAGAGCATAT</th>\n",
       "      <td>21.249505</td>\n",
       "      <td>16.229981</td>\n",
       "      <td>0</td>\n",
       "      <td>237</td>\n",
       "      <td>35</td>\n",
       "      <td>1.320709</td>\n",
       "      <td>0.009225</td>\n",
       "      <td>2</td>\n",
       "      <td>1.311484</td>\n",
       "      <td>Ovarian.cancer.cell</td>\n",
       "      <td>17671</td>\n",
       "      <td>4238</td>\n",
       "      <td>0.109677</td>\n",
       "      <td>Ovarian.cancer.super</td>\n",
       "      <td>35</td>\n",
       "      <td>18</td>\n",
       "      <td>SPECTRUM-OV-107_S1_CD45N_RIGHT_ADNEXA_AAAGAACA...</td>\n",
       "    </tr>\n",
       "  </tbody>\n",
       "</table>\n",
       "</div>"
      ],
      "text/plain": [
       "                                                    percent.mt  percent.rb  \\\n",
       "SPECTRUM-OV-107_S1_CD45N_RIGHT_ADNEXA_AAACCCACA...   12.332594   28.637371   \n",
       "SPECTRUM-OV-107_S1_CD45N_RIGHT_ADNEXA_AAACGAAGT...   22.090894   17.706761   \n",
       "SPECTRUM-OV-107_S1_CD45N_RIGHT_ADNEXA_AAACGAAGT...   19.802657   20.105933   \n",
       "SPECTRUM-OV-107_S1_CD45N_RIGHT_ADNEXA_AAACGCTCA...   16.439193   21.430026   \n",
       "SPECTRUM-OV-107_S1_CD45N_RIGHT_ADNEXA_AAAGAACAG...   21.249505   16.229981   \n",
       "\n",
       "                                                    doublet  sample  batch  \\\n",
       "SPECTRUM-OV-107_S1_CD45N_RIGHT_ADNEXA_AAACCCACA...        0     237     35   \n",
       "SPECTRUM-OV-107_S1_CD45N_RIGHT_ADNEXA_AAACGAAGT...        0     237     35   \n",
       "SPECTRUM-OV-107_S1_CD45N_RIGHT_ADNEXA_AAACGAAGT...        0     237     35   \n",
       "SPECTRUM-OV-107_S1_CD45N_RIGHT_ADNEXA_AAACGCTCA...        0     237     35   \n",
       "SPECTRUM-OV-107_S1_CD45N_RIGHT_ADNEXA_AAAGAACAG...        0     237     35   \n",
       "\n",
       "                                                     S.Score  G2M.Score  \\\n",
       "SPECTRUM-OV-107_S1_CD45N_RIGHT_ADNEXA_AAACCCACA... -0.100605   0.296480   \n",
       "SPECTRUM-OV-107_S1_CD45N_RIGHT_ADNEXA_AAACGAAGT... -0.281512   0.916535   \n",
       "SPECTRUM-OV-107_S1_CD45N_RIGHT_ADNEXA_AAACGAAGT...  0.404795  -0.044553   \n",
       "SPECTRUM-OV-107_S1_CD45N_RIGHT_ADNEXA_AAACGCTCA... -0.031933   0.058618   \n",
       "SPECTRUM-OV-107_S1_CD45N_RIGHT_ADNEXA_AAAGAACAG...  1.320709   0.009225   \n",
       "\n",
       "                                                    Phase   CC.Diff  \\\n",
       "SPECTRUM-OV-107_S1_CD45N_RIGHT_ADNEXA_AAACCCACA...      1 -0.397085   \n",
       "SPECTRUM-OV-107_S1_CD45N_RIGHT_ADNEXA_AAACGAAGT...      1 -1.198046   \n",
       "SPECTRUM-OV-107_S1_CD45N_RIGHT_ADNEXA_AAACGAAGT...      2  0.449348   \n",
       "SPECTRUM-OV-107_S1_CD45N_RIGHT_ADNEXA_AAACGCTCA...      1 -0.090550   \n",
       "SPECTRUM-OV-107_S1_CD45N_RIGHT_ADNEXA_AAAGAACAG...      2  1.311484   \n",
       "\n",
       "                                                              cell_type  \\\n",
       "SPECTRUM-OV-107_S1_CD45N_RIGHT_ADNEXA_AAACCCACA...  Ovarian.cancer.cell   \n",
       "SPECTRUM-OV-107_S1_CD45N_RIGHT_ADNEXA_AAACGAAGT...  Ovarian.cancer.cell   \n",
       "SPECTRUM-OV-107_S1_CD45N_RIGHT_ADNEXA_AAACGAAGT...  Ovarian.cancer.cell   \n",
       "SPECTRUM-OV-107_S1_CD45N_RIGHT_ADNEXA_AAACGCTCA...  Ovarian.cancer.cell   \n",
       "SPECTRUM-OV-107_S1_CD45N_RIGHT_ADNEXA_AAAGAACAG...  Ovarian.cancer.cell   \n",
       "\n",
       "                                                    nCount_RNA  nFeature_RNA  \\\n",
       "SPECTRUM-OV-107_S1_CD45N_RIGHT_ADNEXA_AAACCCACA...       32929          5833   \n",
       "SPECTRUM-OV-107_S1_CD45N_RIGHT_ADNEXA_AAACGAAGT...       31135          5788   \n",
       "SPECTRUM-OV-107_S1_CD45N_RIGHT_ADNEXA_AAACGAAGT...       23411          4881   \n",
       "SPECTRUM-OV-107_S1_CD45N_RIGHT_ADNEXA_AAACGCTCA...        9818          3102   \n",
       "SPECTRUM-OV-107_S1_CD45N_RIGHT_ADNEXA_AAAGAACAG...       17671          4238   \n",
       "\n",
       "                                                    doublet_score  \\\n",
       "SPECTRUM-OV-107_S1_CD45N_RIGHT_ADNEXA_AAACCCACA...       0.147368   \n",
       "SPECTRUM-OV-107_S1_CD45N_RIGHT_ADNEXA_AAACGAAGT...       0.223022   \n",
       "SPECTRUM-OV-107_S1_CD45N_RIGHT_ADNEXA_AAACGAAGT...       0.030928   \n",
       "SPECTRUM-OV-107_S1_CD45N_RIGHT_ADNEXA_AAACGCTCA...       0.109677   \n",
       "SPECTRUM-OV-107_S1_CD45N_RIGHT_ADNEXA_AAAGAACAG...       0.109677   \n",
       "\n",
       "                                                         cell_type_super  \\\n",
       "SPECTRUM-OV-107_S1_CD45N_RIGHT_ADNEXA_AAACCCACA...  Ovarian.cancer.super   \n",
       "SPECTRUM-OV-107_S1_CD45N_RIGHT_ADNEXA_AAACGAAGT...  Ovarian.cancer.super   \n",
       "SPECTRUM-OV-107_S1_CD45N_RIGHT_ADNEXA_AAACGAAGT...  Ovarian.cancer.super   \n",
       "SPECTRUM-OV-107_S1_CD45N_RIGHT_ADNEXA_AAACGCTCA...  Ovarian.cancer.super   \n",
       "SPECTRUM-OV-107_S1_CD45N_RIGHT_ADNEXA_AAAGAACAG...  Ovarian.cancer.super   \n",
       "\n",
       "                                                    patient_id  \\\n",
       "SPECTRUM-OV-107_S1_CD45N_RIGHT_ADNEXA_AAACCCACA...          35   \n",
       "SPECTRUM-OV-107_S1_CD45N_RIGHT_ADNEXA_AAACGAAGT...          35   \n",
       "SPECTRUM-OV-107_S1_CD45N_RIGHT_ADNEXA_AAACGAAGT...          35   \n",
       "SPECTRUM-OV-107_S1_CD45N_RIGHT_ADNEXA_AAACGCTCA...          35   \n",
       "SPECTRUM-OV-107_S1_CD45N_RIGHT_ADNEXA_AAAGAACAG...          35   \n",
       "\n",
       "                                                    seurat_clusters  \\\n",
       "SPECTRUM-OV-107_S1_CD45N_RIGHT_ADNEXA_AAACCCACA...                3   \n",
       "SPECTRUM-OV-107_S1_CD45N_RIGHT_ADNEXA_AAACGAAGT...                3   \n",
       "SPECTRUM-OV-107_S1_CD45N_RIGHT_ADNEXA_AAACGAAGT...                3   \n",
       "SPECTRUM-OV-107_S1_CD45N_RIGHT_ADNEXA_AAACGCTCA...                3   \n",
       "SPECTRUM-OV-107_S1_CD45N_RIGHT_ADNEXA_AAAGAACAG...               18   \n",
       "\n",
       "                                                                                              cell_id  \n",
       "SPECTRUM-OV-107_S1_CD45N_RIGHT_ADNEXA_AAACCCACA...  SPECTRUM-OV-107_S1_CD45N_RIGHT_ADNEXA_AAACCCAC...  \n",
       "SPECTRUM-OV-107_S1_CD45N_RIGHT_ADNEXA_AAACGAAGT...  SPECTRUM-OV-107_S1_CD45N_RIGHT_ADNEXA_AAACGAAG...  \n",
       "SPECTRUM-OV-107_S1_CD45N_RIGHT_ADNEXA_AAACGAAGT...  SPECTRUM-OV-107_S1_CD45N_RIGHT_ADNEXA_AAACGAAG...  \n",
       "SPECTRUM-OV-107_S1_CD45N_RIGHT_ADNEXA_AAACGCTCA...  SPECTRUM-OV-107_S1_CD45N_RIGHT_ADNEXA_AAACGCTC...  \n",
       "SPECTRUM-OV-107_S1_CD45N_RIGHT_ADNEXA_AAAGAACAG...  SPECTRUM-OV-107_S1_CD45N_RIGHT_ADNEXA_AAAGAACA...  "
      ]
     },
     "execution_count": 5,
     "metadata": {},
     "output_type": "execute_result"
    }
   ],
   "source": [
    "# subset raw counts for cells in adata\n",
    "adata.obs.head()"
   ]
  },
  {
   "cell_type": "code",
   "execution_count": 6,
   "id": "d111db20-2cbd-4a0e-a0d1-570140a29108",
   "metadata": {},
   "outputs": [
    {
     "data": {
      "text/plain": [
       "View of AnnData object with n_obs × n_vars = 929690 × 32175\n",
       "    var: 'gene_ids', 'feature_types'"
      ]
     },
     "execution_count": 6,
     "metadata": {},
     "output_type": "execute_result"
    }
   ],
   "source": [
    "raw_counts = raw_counts[adata.obs.cell_id]\n",
    "raw_counts"
   ]
  },
  {
   "cell_type": "code",
   "execution_count": 7,
   "id": "8ca3115b-dbe8-4de5-9d71-7807845eb5d0",
   "metadata": {},
   "outputs": [
    {
     "data": {
      "text/plain": [
       "True"
      ]
     },
     "execution_count": 7,
     "metadata": {},
     "output_type": "execute_result"
    }
   ],
   "source": [
    "all(raw_counts.obs.index.tolist() == adata.obs['cell_id'])"
   ]
  },
  {
   "cell_type": "code",
   "execution_count": 8,
   "id": "c835f782-28fd-4e91-a83e-3195aa602ce1",
   "metadata": {},
   "outputs": [
    {
     "data": {
      "text/plain": [
       "29175"
      ]
     },
     "execution_count": 8,
     "metadata": {},
     "output_type": "execute_result"
    }
   ],
   "source": [
    "# Determine which genes are filtered in the normalized matrix\n",
    "kept_ids = set(adata.var['gene.ids'])\n",
    "all_ids = set(raw_counts.var['gene_ids'])\n",
    "\n",
    "# These need to be flagged in 'var' as 'feature_is_filtered' and have counts zeroed\n",
    "filtered_ids = all_ids.difference(kept_ids)\n",
    "len(filtered_ids)"
   ]
  },
  {
   "cell_type": "code",
   "execution_count": 12,
   "id": "6e0527cb-29df-4013-aba2-0d2bd90d04b4",
   "metadata": {},
   "outputs": [
    {
     "data": {
      "text/html": [
       "<div>\n",
       "<style scoped>\n",
       "    .dataframe tbody tr th:only-of-type {\n",
       "        vertical-align: middle;\n",
       "    }\n",
       "\n",
       "    .dataframe tbody tr th {\n",
       "        vertical-align: top;\n",
       "    }\n",
       "\n",
       "    .dataframe thead th {\n",
       "        text-align: right;\n",
       "    }\n",
       "</style>\n",
       "<table border=\"1\" class=\"dataframe\">\n",
       "  <thead>\n",
       "    <tr style=\"text-align: right;\">\n",
       "      <th></th>\n",
       "      <th>feature_types</th>\n",
       "      <th>gene_name</th>\n",
       "    </tr>\n",
       "    <tr>\n",
       "      <th>gene_ids</th>\n",
       "      <th></th>\n",
       "      <th></th>\n",
       "    </tr>\n",
       "  </thead>\n",
       "  <tbody>\n",
       "    <tr>\n",
       "      <th>ENSG00000243485</th>\n",
       "      <td>Gene Expression</td>\n",
       "      <td>MIR1302-2HG</td>\n",
       "    </tr>\n",
       "    <tr>\n",
       "      <th>ENSG00000186092</th>\n",
       "      <td>Gene Expression</td>\n",
       "      <td>OR4F5</td>\n",
       "    </tr>\n",
       "    <tr>\n",
       "      <th>ENSG00000238009</th>\n",
       "      <td>Gene Expression</td>\n",
       "      <td>AL627309.1</td>\n",
       "    </tr>\n",
       "    <tr>\n",
       "      <th>ENSG00000239945</th>\n",
       "      <td>Gene Expression</td>\n",
       "      <td>AL627309.3</td>\n",
       "    </tr>\n",
       "    <tr>\n",
       "      <th>ENSG00000241599</th>\n",
       "      <td>Gene Expression</td>\n",
       "      <td>AL627309.4</td>\n",
       "    </tr>\n",
       "    <tr>\n",
       "      <th>...</th>\n",
       "      <td>...</td>\n",
       "      <td>...</td>\n",
       "    </tr>\n",
       "    <tr>\n",
       "      <th>ENSG00000276345</th>\n",
       "      <td>Gene Expression</td>\n",
       "      <td>AC004556.1</td>\n",
       "    </tr>\n",
       "    <tr>\n",
       "      <th>ENSG00000277856</th>\n",
       "      <td>Gene Expression</td>\n",
       "      <td>AC233755.2</td>\n",
       "    </tr>\n",
       "    <tr>\n",
       "      <th>ENSG00000275063</th>\n",
       "      <td>Gene Expression</td>\n",
       "      <td>AC233755.1</td>\n",
       "    </tr>\n",
       "    <tr>\n",
       "      <th>ENSG00000271254</th>\n",
       "      <td>Gene Expression</td>\n",
       "      <td>AC240274.1</td>\n",
       "    </tr>\n",
       "    <tr>\n",
       "      <th>ENSG00000268674</th>\n",
       "      <td>Gene Expression</td>\n",
       "      <td>FAM231C</td>\n",
       "    </tr>\n",
       "  </tbody>\n",
       "</table>\n",
       "<p>32175 rows × 2 columns</p>\n",
       "</div>"
      ],
      "text/plain": [
       "                   feature_types    gene_name\n",
       "gene_ids                                     \n",
       "ENSG00000243485  Gene Expression  MIR1302-2HG\n",
       "ENSG00000186092  Gene Expression        OR4F5\n",
       "ENSG00000238009  Gene Expression   AL627309.1\n",
       "ENSG00000239945  Gene Expression   AL627309.3\n",
       "ENSG00000241599  Gene Expression   AL627309.4\n",
       "...                          ...          ...\n",
       "ENSG00000276345  Gene Expression   AC004556.1\n",
       "ENSG00000277856  Gene Expression   AC233755.2\n",
       "ENSG00000275063  Gene Expression   AC233755.1\n",
       "ENSG00000271254  Gene Expression   AC240274.1\n",
       "ENSG00000268674  Gene Expression      FAM231C\n",
       "\n",
       "[32175 rows x 2 columns]"
      ]
     },
     "execution_count": 12,
     "metadata": {},
     "output_type": "execute_result"
    }
   ],
   "source": [
    "# Index on gene ids which are unique\n",
    "raw_counts.var['gene_name'] = raw_counts.var.index\n",
    "raw_counts.var.set_index(\"gene_ids\", inplace=True)\n",
    "raw_counts.var"
   ]
  },
  {
   "cell_type": "code",
   "execution_count": 14,
   "id": "d9007ce0-fa5a-48a3-baf2-746759cff22f",
   "metadata": {},
   "outputs": [],
   "source": [
    "# Create sparse matrix of zeros equal in size\n",
    "# LIL format allows better slicing\n",
    "raw_counts.X = scipy.sparse.lil_array(raw_counts.X.shape)"
   ]
  },
  {
   "cell_type": "code",
   "execution_count": 15,
   "id": "4bbd8d2e-d1e9-48fe-9ab6-6e5d11d9183e",
   "metadata": {},
   "outputs": [
    {
     "name": "stderr",
     "output_type": "stream",
     "text": [
      "100%|██████████| 3000/3000 [16:31<00:00,  3.03it/s]\n"
     ]
    }
   ],
   "source": [
    "# Loop over and replace gene values for the cells\n",
    "for i, gene in enumerate(tqdm(adata.var['gene.ids'])):\n",
    "    gene_idx = np.where(raw_counts.var.index == gene)[0]    \n",
    "    raw_counts.X[:,gene_idx] = adata.X[:,i]"
   ]
  },
  {
   "cell_type": "code",
   "execution_count": 22,
   "id": "79e36d27-ab06-44a0-9526-16e304de1596",
   "metadata": {},
   "outputs": [],
   "source": [
    "# Convert to sparse format and save out (in case memory blows up and need to reload)\n",
    "raw_counts.X = scipy.sparse.csr_matrix(raw_counts.X)"
   ]
  },
  {
   "cell_type": "code",
   "execution_count": 23,
   "id": "e2b70baf-68ec-4291-858a-d83f2f568ac6",
   "metadata": {},
   "outputs": [
    {
     "data": {
      "text/plain": [
       "<929690x32175 sparse matrix of type '<class 'numpy.float64'>'\n",
       "\twith 2789070000 stored elements in Compressed Sparse Row format>"
      ]
     },
     "execution_count": 23,
     "metadata": {},
     "output_type": "execute_result"
    }
   ],
   "source": [
    "raw_counts.X"
   ]
  },
  {
   "cell_type": "code",
   "execution_count": 24,
   "id": "25c8aa70-87aa-471b-9220-d8d970b9a723",
   "metadata": {},
   "outputs": [],
   "source": [
    "raw_counts.write_h5ad(filename=\"objects/00_zeroes_plus_normalized_csr.h5ad\", compression = \"gzip\")"
   ]
  },
  {
   "cell_type": "code",
   "execution_count": 32,
   "id": "8d75a31b-b6ad-4b02-a954-828e82b22c3a",
   "metadata": {},
   "outputs": [],
   "source": [
    "# Reload and initialize raw counts matrix...\n",
    "raw_countmat = sc.read_h5ad(filename=\"/work/shah/isabl_data_lake/analyses/84/78/8478/RNASCP/RNASCP/BUILD_MATRIX/fork0/files/matrix.h5\")"
   ]
  },
  {
   "cell_type": "code",
   "execution_count": 33,
   "id": "ba477dc4-141b-49a9-8978-a8da51fb7a50",
   "metadata": {},
   "outputs": [],
   "source": [
    "raw_countmat = raw_countmat[adata.obs.cell_id]"
   ]
  },
  {
   "cell_type": "code",
   "execution_count": 37,
   "id": "0b79f282-31ee-4735-83ed-b9eb97607873",
   "metadata": {},
   "outputs": [
    {
     "data": {
      "text/plain": [
       "<929690x32175 sparse matrix of type '<class 'numpy.float32'>'\n",
       "\twith 2181355725 stored elements in Compressed Sparse Row format>"
      ]
     },
     "execution_count": 37,
     "metadata": {},
     "output_type": "execute_result"
    }
   ],
   "source": [
    "raw_countmat.X"
   ]
  },
  {
   "cell_type": "code",
   "execution_count": 40,
   "id": "56bae9e6-4cd9-4d23-9301-dad40c0c36c7",
   "metadata": {},
   "outputs": [
    {
     "data": {
      "text/plain": [
       "<929690x32175 sparse matrix of type '<class 'numpy.float32'>'\n",
       "\twith 2181355725 stored elements in Compressed Sparse Row format>"
      ]
     },
     "execution_count": 40,
     "metadata": {},
     "output_type": "execute_result"
    }
   ],
   "source": [
    "# Initialize raw counts matrix in raw\n",
    "raw_counts.raw = raw_countmat\n",
    "raw_counts.raw.X"
   ]
  },
  {
   "cell_type": "code",
   "execution_count": null,
   "id": "e6ee7c32-6aad-4529-8750-4a4bbe8731e8",
   "metadata": {},
   "outputs": [],
   "source": [
    "raw_counts.X = scipy.sparse.csr_matrix(raw_counts.X, dtype=\"float32\")"
   ]
  },
  {
   "cell_type": "code",
   "execution_count": 41,
   "id": "09cfe8bc-5f3e-4310-a454-23e7178dfbbe",
   "metadata": {},
   "outputs": [],
   "source": [
    "raw_counts.write_h5ad(filename=\"objects/01_raw_plus_normalized.h5ad\", compression = \"gzip\")"
   ]
  }
 ],
 "metadata": {
  "kernelspec": {
   "display_name": "Python 3 (ipykernel)",
   "language": "python",
   "name": "python3"
  },
  "language_info": {
   "codemirror_mode": {
    "name": "ipython",
    "version": 3
   },
   "file_extension": ".py",
   "mimetype": "text/x-python",
   "name": "python",
   "nbconvert_exporter": "python",
   "pygments_lexer": "ipython3",
   "version": "3.9.13"
  },
  "vscode": {
   "interpreter": {
    "hash": "a9683a3ba62b0f40b3bf6593e986095efa9303902d9791f7bbee0e4e6aa51ec9"
   }
  }
 },
 "nbformat": 4,
 "nbformat_minor": 5
}
