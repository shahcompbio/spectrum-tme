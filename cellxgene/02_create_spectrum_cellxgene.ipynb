{
 "cells": [
  {
   "cell_type": "code",
   "execution_count": null,
   "id": "0205bf5a-611f-440d-ada8-c9c89bdcf3e3",
   "metadata": {},
   "outputs": [],
   "source": [
    "import scanpy as sc\n",
    "import numpy as np\n",
    "import pandas as pd\n",
    "import scipy\n",
    "import sys\n",
    "%matplotlib inline"
   ]
  },
  {
   "cell_type": "markdown",
   "id": "2a9f3578-2dec-41e9-9d31-d89cfeffe849",
   "metadata": {},
   "source": [
    "### Tips for reducing h5ad file size\n",
    "\n",
    "- [x] use compression=gzip in write_h5ad function\n",
    "- [x] matrix data stored as float32 rather than float64\n",
    "- [x] any metadata columns (obs/var) that are 64bit can probably become 32bit\n",
    "- [x] any string columns often are much smaller if made categorical\n",
    "- [x] remove any extra ‘layers’ that aren’t desired in the final version\n",
    "- [x] ensure X & raw.X are both sparse.csr_matrix"
   ]
  },
  {
   "cell_type": "markdown",
   "id": "535c4489-1532-422c-a035-dcdf4a4bcb7d",
   "metadata": {},
   "source": [
    "https://cellxgene.cziscience.com/docs/032__Contribute%20and%20Publish%20Data"
   ]
  },
  {
   "cell_type": "code",
   "execution_count": null,
   "id": "9ae683d1-c77b-4e56-8f6b-d1d9ca48284b",
   "metadata": {},
   "outputs": [],
   "source": [
    "# Load file with obs and gene metadata\n",
    "meta = sc.read_h5ad(\"./integrated_seurat.h5ad\")\n",
    "meta"
   ]
  },
  {
   "cell_type": "code",
   "execution_count": null,
   "id": "c3212fe6-a051-4f93-8692-8f39ec25459d",
   "metadata": {},
   "outputs": [],
   "source": [
    "metadata = pd.read_csv(\"/work/shah/vazquezi/data/transfers/zatzmanm/release/cellxgene/20221021_conversion/scrna_cell_metadata.tsv\", sep=\"\\t\", )"
   ]
  },
  {
   "cell_type": "code",
   "execution_count": null,
   "id": "8504ad85-87a4-4ee9-8538-39fd1ff7049c",
   "metadata": {},
   "outputs": [],
   "source": [
    "# Get columns with mixed types\n",
    "def check_mixed(df): \n",
    "    for col in df.columns:\n",
    "        weird = (df[[col]].applymap(type) != df[[col]].iloc[0].apply(type)).any(axis=1)\n",
    "        if len(metadata[weird]) > 0:\n",
    "            print(col)"
   ]
  },
  {
   "cell_type": "code",
   "execution_count": null,
   "id": "d54560fc-91e4-4369-b448-458de0cdafb2",
   "metadata": {},
   "outputs": [],
   "source": [
    "check_mixed(metadata)"
   ]
  },
  {
   "cell_type": "code",
   "execution_count": null,
   "id": "78002842-1b5b-4421-952e-8e10c073ac6d",
   "metadata": {},
   "outputs": [],
   "source": [
    "# Fix these\n",
    "metadata[\"cell_type_ontology_term_id\"] = metadata[\"cell_type_ontology_term_id\"].astype(str)\n",
    "metadata[\"tissue_ontology_term_id\"] = metadata[\"tissue_ontology_term_id\"].astype(str)"
   ]
  },
  {
   "cell_type": "code",
   "execution_count": null,
   "id": "a2ad3ce9-2267-4e03-8810-217ff534c4da",
   "metadata": {},
   "outputs": [],
   "source": [
    "check_mixed(metadata)"
   ]
  },
  {
   "cell_type": "code",
   "execution_count": null,
   "id": "e5e085f7-692a-49ed-9910-789f9cbbd86c",
   "metadata": {},
   "outputs": [],
   "source": [
    "metadata.set_index(\"cell_id\", drop=False, inplace=True)"
   ]
  },
  {
   "cell_type": "code",
   "execution_count": null,
   "id": "ba1479ee-d550-49a0-9be8-7090c7438541",
   "metadata": {},
   "outputs": [],
   "source": [
    "# Load integrated data\n",
    "adata = sc.read_h5ad(\"./01_raw_plus_normalized.h5ad\")\n",
    "adata"
   ]
  },
  {
   "cell_type": "code",
   "execution_count": null,
   "id": "b70d2b4a-84d9-4fa4-83f8-37031e837f2f",
   "metadata": {},
   "outputs": [],
   "source": [
    "all(adata.obs.index == metadata.index)"
   ]
  },
  {
   "cell_type": "code",
   "execution_count": null,
   "id": "101241c4-aa41-4030-97c2-47b72c0f6f00",
   "metadata": {},
   "outputs": [],
   "source": [
    "all(adata.obs.index == meta.obs.index)"
   ]
  },
  {
   "cell_type": "code",
   "execution_count": null,
   "id": "5eee668f-add0-4222-acb4-a8a3d6b62b0d",
   "metadata": {},
   "outputs": [],
   "source": [
    "adata.obs = metadata\n",
    "adata.obsm = meta.obsm\n",
    "adata.uns = meta.uns"
   ]
  },
  {
   "cell_type": "code",
   "execution_count": null,
   "id": "f369eb91-51ef-421d-a862-6a8ae82a2902",
   "metadata": {},
   "outputs": [],
   "source": [
    "adata.uns[\"schema_version\"] = \"3.0.0\"\n",
    "adata.uns[\"title\"] = \"MSK SPECTRUM – Ovarian cancer mutational processes drive site-specific immune phenotypes\"\n",
    "\n",
    "# adata.uns[\"batch_condition\"] = [\"donor_id\", \"procedure\"] # OPTIONAL"
   ]
  },
  {
   "cell_type": "code",
   "execution_count": null,
   "id": "307bb0a7-877f-4133-955a-14c348c5d535",
   "metadata": {},
   "outputs": [],
   "source": [
    "sc.settings.set_figure_params(dpi=80, facecolor='white')\n",
    "sc.pl.embedding(adata = adata, basis = \"X_umap50\", color = \"author_cell_type\")"
   ]
  },
  {
   "cell_type": "code",
   "execution_count": null,
   "id": "2008efc0-a265-4fdd-a710-43e005885bb3",
   "metadata": {},
   "outputs": [],
   "source": [
    "# Get matching gene indices for the hvgs\n",
    "meta.var[\"gene_ids\"] = meta.var[\"gene.ids\"]\n",
    "\n",
    "adata_var = adata.var.copy()\n",
    "\n",
    "hvg_idx = adata_var.reset_index().reset_index().set_index(\"gene_ids\").loc[meta.var[\"gene_ids\"], 'index'].values"
   ]
  },
  {
   "cell_type": "code",
   "execution_count": null,
   "id": "a2295056-69da-47dc-a83d-71cc020d60e3",
   "metadata": {},
   "outputs": [],
   "source": [
    "# Label filtered features\n",
    "adata.var[\"feature_is_filtered\"] = 'True'\n",
    "adata.var.iloc[hvg_idx,2] = 'False'"
   ]
  },
  {
   "cell_type": "code",
   "execution_count": null,
   "id": "bee9a39b-6d59-4514-8c6e-2f79fe75092b",
   "metadata": {},
   "outputs": [],
   "source": [
    "adata.obs[\"is_primary_data\"] = 'True'"
   ]
  },
  {
   "cell_type": "code",
   "execution_count": null,
   "id": "89bb6d53-03a5-4d56-ad33-562c5b6c4b9d",
   "metadata": {},
   "outputs": [],
   "source": [
    "# Space saving measures\n",
    "adata.obs.dtypes"
   ]
  },
  {
   "cell_type": "code",
   "execution_count": null,
   "id": "8eb58040-462d-4e73-8e21-427820055266",
   "metadata": {},
   "outputs": [],
   "source": [
    "# Convert relevant columns to categorical\n",
    "to_cat = [\"doublet\", \"author_sample_id\", \"Phase\", \"cell_id\", \"is_primary_data\"]\n",
    "\n",
    "adata.obs[to_cat] = adata.obs[to_cat].apply(pd.Categorical)"
   ]
  },
  {
   "cell_type": "code",
   "execution_count": null,
   "id": "32128327-924b-425a-b873-8e346858a8d7",
   "metadata": {},
   "outputs": [],
   "source": [
    "# all float 64 to float32\n",
    "to_float32 = [\"percent.mt\", \"percent.rb\", \"S.Score\", \"G2M.Score\", \"CC.Diff\", \"doublet_score\"]\n",
    "\n",
    "adata.obs[to_float32] = adata.obs[to_float32].apply(np.float32)"
   ]
  },
  {
   "cell_type": "code",
   "execution_count": null,
   "id": "ef9319b5-2db9-44a8-ac3c-9f6d63f98692",
   "metadata": {},
   "outputs": [],
   "source": [
    "check_mixed(adata.obs)"
   ]
  },
  {
   "cell_type": "code",
   "execution_count": null,
   "id": "1cf4510c-9a25-4769-a312-d2a7a663fe0c",
   "metadata": {},
   "outputs": [],
   "source": [
    "adata.obs.columns"
   ]
  },
  {
   "cell_type": "code",
   "execution_count": null,
   "id": "8b5838bc-ece5-46b0-a095-e1972287d3f3",
   "metadata": {},
   "outputs": [],
   "source": [
    "adata.obs.head()"
   ]
  },
  {
   "cell_type": "code",
   "execution_count": null,
   "id": "0d543b29-f349-40b4-84d7-bb548bdb6209",
   "metadata": {},
   "outputs": [],
   "source": [
    "adata.var.head()"
   ]
  },
  {
   "cell_type": "code",
   "execution_count": null,
   "id": "f5155efa-4378-43c0-87da-60170cd3a953",
   "metadata": {},
   "outputs": [],
   "source": [
    "# Write out\n",
    "adata.write_h5ad(filename = \"/juno/work/shah/users/zatzmanm/repos/spectrum_scrna/SPECTRUM_scRNA_cohort.h5ad\", compression=\"gzip\")"
   ]
  },
  {
   "cell_type": "code",
   "execution_count": null,
   "id": "31f4b6b5-cda7-48b7-9e32-ea1a7104ab8c",
   "metadata": {},
   "outputs": [],
   "source": [
    "# Test load\n",
    "spectrum = sc.read_h5ad(filename=\"/juno/work/shah/users/zatzmanm/repos/spectrum_scrna/SPECTRUM_scRNA_cohort.h5ad\", backed = \"r\")\n",
    "spectrum"
   ]
  },
  {
   "cell_type": "code",
   "execution_count": null,
   "id": "65299854-43eb-4fe6-99cb-079d80d933cc",
   "metadata": {},
   "outputs": [],
   "source": [
    "spectrum.obs.head()"
   ]
  },
  {
   "cell_type": "code",
   "execution_count": null,
   "id": "05f892b8-0a6d-4ed3-aa34-e2896b8e972e",
   "metadata": {},
   "outputs": [],
   "source": [
    "spectrum.var.head()"
   ]
  },
  {
   "cell_type": "code",
   "execution_count": null,
   "id": "f9e531ba-68df-426e-8f97-74b71703cab7",
   "metadata": {},
   "outputs": [],
   "source": [
    "# Save metadata\n",
    "spectrum.obs.to_csv(\"/juno/work/shah/users/zatzmanm/repos/spectrum_scrna/spectrum_scrna_metadata.csv.gz\", index=False)"
   ]
  }
 ],
 "metadata": {
  "kernelspec": {
   "display_name": "Python 3.10.4 ('isabl')",
   "language": "python",
   "name": "python3"
  },
  "language_info": {
   "codemirror_mode": {
    "name": "ipython",
    "version": 3
   },
   "file_extension": ".py",
   "mimetype": "text/x-python",
   "name": "python",
   "nbconvert_exporter": "python",
   "pygments_lexer": "ipython3",
   "version": "3.10.4"
  },
  "vscode": {
   "interpreter": {
    "hash": "a9683a3ba62b0f40b3bf6593e986095efa9303902d9791f7bbee0e4e6aa51ec9"
   }
  }
 },
 "nbformat": 4,
 "nbformat_minor": 5
}
