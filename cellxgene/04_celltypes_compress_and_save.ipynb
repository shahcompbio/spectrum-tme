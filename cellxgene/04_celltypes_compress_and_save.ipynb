{
 "cells": [
  {
   "cell_type": "code",
   "execution_count": 1,
   "id": "e3b80c6f-08df-43be-94b3-2c1c7d094b02",
   "metadata": {},
   "outputs": [],
   "source": [
    "import scanpy as sc\n",
    "import numpy as np\n",
    "import pandas as pd\n",
    "import scipy\n",
    "import sys\n",
    "import os\n",
    "import glob\n",
    "%matplotlib inline"
   ]
  },
  {
   "cell_type": "markdown",
   "id": "077d99de-c06a-4af4-a79f-7b1fefba4778",
   "metadata": {},
   "source": [
    "### Tips for reducing h5ad file size\n",
    "\n",
    "- [x] use compression=gzip in write_h5ad function\n",
    "- [x] matrix data stored as float32 rather than float64\n",
    "- [x] any metadata columns (obs/var) that are 64bit can probably become 32bit\n",
    "- [x] any string columns often are much smaller if made categorical\n",
    "- [x] remove any extra ‘layers’ that aren’t desired in the final version\n",
    "- [x] ensure X & raw.X are both sparse.csr_matrix"
   ]
  },
  {
   "cell_type": "code",
   "execution_count": 53,
   "id": "4f93934c-d0f1-46a4-83bc-da89fcf43eda",
   "metadata": {},
   "outputs": [],
   "source": [
    "# Create an empty list to store the matching files\n",
    "file_list = []\n",
    "\n",
    "# Use glob to find files matching the pattern and add them to the list\n",
    "for file in glob.glob(\"*.h5Seurat\"):\n",
    "    \n",
    "    # Use the os.path.splitext() function to split the filename into two parts: the root and the extension\n",
    "    file_root, file_ext = os.path.splitext(file)\n",
    "    file_list.append(file_root)"
   ]
  },
  {
   "cell_type": "code",
   "execution_count": 74,
   "id": "ad55ca53-8276-4e60-b77a-f551221abead",
   "metadata": {},
   "outputs": [],
   "source": [
    "# Create function to load and save\n",
    "def save_cellxgene(h5ad_path, ct):\n",
    "    print(f\"Celltype: {ct} -- {h5ad_path}\")\n",
    "    adata = sc.read_h5ad(f\"{ct}.h5ad\")\n",
    "    adata.uns[\"schema_version\"] = \"3.0.0\"\n",
    "    adata.uns[\"title\"] = \"MSK SPECTRUM – Ovarian cancer mutational processes drive site-specific immune phenotypes\"\n",
    "    # Convert relevant columns to categorical\n",
    "    to_cat = [\"doublet\", \"author_sample_id\", \"Phase\", \"cell_id\", \"is_primary_data\"]\n",
    "    adata.obs[to_cat] = adata.obs[to_cat].apply(pd.Categorical)\n",
    "    # Float32 matrices\n",
    "    adata.X = scipy.sparse.csr_matrix(adata.X, dtype = np.float32)\n",
    "    raw = adata.raw.to_adata()\n",
    "    raw.X = scipy.sparse.csr_matrix(raw.X, dtype = np.float32)    \n",
    "    adata.raw = raw\n",
    "    # Write out\n",
    "    adata.write_h5ad(filename = f\"./{ct}_cellxgene.h5ad\", compression=\"gzip\")"
   ]
  },
  {
   "cell_type": "code",
   "execution_count": null,
   "id": "aed873fc-78b2-4892-bfc7-111418da8cb3",
   "metadata": {},
   "outputs": [
    {
     "name": "stdout",
     "output_type": "stream",
     "text": [
      "Celltype: ovarian_cancer -- ovarian_cancer.h5ad\n"
     ]
    },
    {
     "name": "stderr",
     "output_type": "stream",
     "text": [
      "/home/zatzmanm/work/miniconda3/envs/scanpy_new/lib/python3.10/site-packages/anndata/_core/raw.py:139: FutureWarning: X.dtype being converted to np.float32 from float64. In the next version of anndata (0.9) conversion will not be automatic. Pass dtype explicitly to avoid this warning. Pass `AnnData(X, dtype=X.dtype, ...)` to get the future behavour.\n",
      "  return anndata.AnnData(\n"
     ]
    },
    {
     "name": "stdout",
     "output_type": "stream",
     "text": [
      "Celltype: T_cell -- T_cell.h5ad\n"
     ]
    },
    {
     "name": "stderr",
     "output_type": "stream",
     "text": [
      "/home/zatzmanm/work/miniconda3/envs/scanpy_new/lib/python3.10/site-packages/anndata/_core/raw.py:139: FutureWarning: X.dtype being converted to np.float32 from float64. In the next version of anndata (0.9) conversion will not be automatic. Pass dtype explicitly to avoid this warning. Pass `AnnData(X, dtype=X.dtype, ...)` to get the future behavour.\n",
      "  return anndata.AnnData(\n"
     ]
    }
   ],
   "source": [
    "for ct in file_list:\n",
    "    save_cellxgene(h5ad_path=f\"{ct}.h5ad\", ct = ct)"
   ]
  }
 ],
 "metadata": {
  "kernelspec": {
   "display_name": "Python [conda env:scanpy_new]",
   "language": "python",
   "name": "conda-env-scanpy_new-py"
  },
  "language_info": {
   "codemirror_mode": {
    "name": "ipython",
    "version": 3
   },
   "file_extension": ".py",
   "mimetype": "text/x-python",
   "name": "python",
   "nbconvert_exporter": "python",
   "pygments_lexer": "ipython3",
   "version": "3.10.6"
  }
 },
 "nbformat": 4,
 "nbformat_minor": 5
}
