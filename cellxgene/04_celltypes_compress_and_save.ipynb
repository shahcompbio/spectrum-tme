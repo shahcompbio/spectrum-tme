{
 "cells": [
  {
   "cell_type": "code",
   "execution_count": 1,
   "id": "e3b80c6f-08df-43be-94b3-2c1c7d094b02",
   "metadata": {},
   "outputs": [],
   "source": [
    "import scanpy as sc\n",
    "import numpy as np\n",
    "import pandas as pd\n",
    "import scipy\n",
    "import sys\n",
    "import os\n",
    "import glob\n",
    "%matplotlib inline"
   ]
  },
  {
   "cell_type": "markdown",
   "id": "077d99de-c06a-4af4-a79f-7b1fefba4778",
   "metadata": {},
   "source": [
    "### Tips for reducing h5ad file size\n",
    "\n",
    "- [x] use compression=gzip in write_h5ad function\n",
    "- [x] matrix data stored as float32 rather than float64\n",
    "- [x] any metadata columns (obs/var) that are 64bit can probably become 32bit\n",
    "- [x] any string columns often are much smaller if made categorical\n",
    "- [x] remove any extra ‘layers’ that aren’t desired in the final version\n",
    "- [x] ensure X & raw.X are both sparse.csr_matrix"
   ]
  },
  {
   "cell_type": "code",
   "execution_count": 2,
   "id": "4f93934c-d0f1-46a4-83bc-da89fcf43eda",
   "metadata": {},
   "outputs": [],
   "source": [
    "# Create an empty list to store the matching files\n",
    "file_list = {}\n",
    "\n",
    "# Use glob to find files matching the pattern and add them to the list\n",
    "for file in glob.glob(\"objects/*.h5Seurat\"):\n",
    "    \n",
    "    # Use the os.path.splitext() function to split the filename into two parts: the root and the extension\n",
    "    file_root, file_ext = os.path.splitext(file)\n",
    "    \n",
    "    file_list.update({os.path.basename(file_root): file_root})"
   ]
  },
  {
   "cell_type": "code",
   "execution_count": 3,
   "id": "80e7bc76-6311-4f10-87a1-5dee3bfaf2aa",
   "metadata": {},
   "outputs": [
    {
     "data": {
      "text/plain": [
       "{'Ovarian.cancer.cell': 'objects/Ovarian.cancer.cell',\n",
       " 'T.super': 'objects/T.super',\n",
       " 'Myeloid.super': 'objects/Myeloid.super',\n",
       " 'CD8.T': 'objects/CD8.T',\n",
       " 'DCs': 'objects/DCs',\n",
       " 'Macrophages': 'objects/Macrophages'}"
      ]
     },
     "execution_count": 3,
     "metadata": {},
     "output_type": "execute_result"
    }
   ],
   "source": [
    "file_list"
   ]
  },
  {
   "cell_type": "code",
   "execution_count": 4,
   "id": "1131d177-944d-4ad8-b57a-7742578d008d",
   "metadata": {},
   "outputs": [],
   "source": [
    "# Read study description metadata\n",
    "desc=pd.read_csv(\"https://docs.google.com/spreadsheets/d/15RWlyM8EfB7CgFGc22nIw0yBErkdHz0EFf0DYBMae2M/export?gid=712477828&format=csv\")"
   ]
  },
  {
   "cell_type": "code",
   "execution_count": 5,
   "id": "7b7ddd87-5a6e-4fd1-8559-c42e1342d2b9",
   "metadata": {},
   "outputs": [
    {
     "data": {
      "text/html": [
       "<div>\n",
       "<style scoped>\n",
       "    .dataframe tbody tr th:only-of-type {\n",
       "        vertical-align: middle;\n",
       "    }\n",
       "\n",
       "    .dataframe tbody tr th {\n",
       "        vertical-align: top;\n",
       "    }\n",
       "\n",
       "    .dataframe thead th {\n",
       "        text-align: right;\n",
       "    }\n",
       "</style>\n",
       "<table border=\"1\" class=\"dataframe\">\n",
       "  <thead>\n",
       "    <tr style=\"text-align: right;\">\n",
       "      <th></th>\n",
       "      <th>object</th>\n",
       "      <th>study_description</th>\n",
       "    </tr>\n",
       "  </thead>\n",
       "  <tbody>\n",
       "    <tr>\n",
       "      <th>0</th>\n",
       "      <td>Cohort</td>\n",
       "      <td>MSK SPECTRUM - All cells</td>\n",
       "    </tr>\n",
       "    <tr>\n",
       "      <th>1</th>\n",
       "      <td>Ovarian.cancer.cell</td>\n",
       "      <td>MSK SPECTRUM - Malignant and non-malignant epi...</td>\n",
       "    </tr>\n",
       "    <tr>\n",
       "      <th>2</th>\n",
       "      <td>T.super</td>\n",
       "      <td>MSK SPECTRUM - CD4+ T cells, CD8+ T cells, ILC...</td>\n",
       "    </tr>\n",
       "    <tr>\n",
       "      <th>3</th>\n",
       "      <td>Myeloid.super</td>\n",
       "      <td>MSK SPECTRUM - Macrophages and dendritic cells</td>\n",
       "    </tr>\n",
       "    <tr>\n",
       "      <th>4</th>\n",
       "      <td>CD8.T</td>\n",
       "      <td>MSK SPECTRUM - CD8+ T cells</td>\n",
       "    </tr>\n",
       "    <tr>\n",
       "      <th>5</th>\n",
       "      <td>DCs</td>\n",
       "      <td>MSK SPECTRUM - Dendritic cells</td>\n",
       "    </tr>\n",
       "    <tr>\n",
       "      <th>6</th>\n",
       "      <td>Macrophages</td>\n",
       "      <td>MSK SPECTRUM - Macrophages</td>\n",
       "    </tr>\n",
       "  </tbody>\n",
       "</table>\n",
       "</div>"
      ],
      "text/plain": [
       "                object                                  study_description\n",
       "0               Cohort                           MSK SPECTRUM - All cells\n",
       "1  Ovarian.cancer.cell  MSK SPECTRUM - Malignant and non-malignant epi...\n",
       "2              T.super  MSK SPECTRUM - CD4+ T cells, CD8+ T cells, ILC...\n",
       "3        Myeloid.super     MSK SPECTRUM - Macrophages and dendritic cells\n",
       "4                CD8.T                        MSK SPECTRUM - CD8+ T cells\n",
       "5                  DCs                     MSK SPECTRUM - Dendritic cells\n",
       "6          Macrophages                         MSK SPECTRUM - Macrophages"
      ]
     },
     "execution_count": 5,
     "metadata": {},
     "output_type": "execute_result"
    }
   ],
   "source": [
    "desc"
   ]
  },
  {
   "cell_type": "code",
   "execution_count": 6,
   "id": "55072f07-a5a5-4c3a-bc42-68c3c07dbb0b",
   "metadata": {},
   "outputs": [],
   "source": [
    "def convert_float32(df):\n",
    "    \n",
    "    # Select columns with 'float64' dtype  \n",
    "    float64_cols = list(df.select_dtypes(include='float64'))\n",
    "\n",
    "    # The same code again calling the columns\n",
    "    df[float64_cols] = df[float64_cols].astype('float32')\n",
    "    return df\n",
    "\n",
    "def convert_categoricals(df):\n",
    "    cat_cols = list(df.select_dtypes(include = \"object\"))\n",
    "    \n",
    "    df[cat_cols] = df[cat_cols].astype(\"category\")\n",
    "    return(df)"
   ]
  },
  {
   "cell_type": "code",
   "execution_count": 7,
   "id": "ad55ca53-8276-4e60-b77a-f551221abead",
   "metadata": {},
   "outputs": [],
   "source": [
    "# Create function to load and save\n",
    "def format_cellxgene(h5ad_path, ct, overwrite = False, save = True, return_adata = False):\n",
    "    print(f\"Celltype: {ct} -- {h5ad_path}\")\n",
    "\n",
    "    final_out = f\"./objects/{ct}_cellxgene.h5ad\"\n",
    "    \n",
    "    if os.path.exists(final_out) and not overwrite:\n",
    "        print(f\"Skipping {ct}. Final output exists: {final_out}\")\n",
    "    else:\n",
    "        print(f\"Compressing and formating {ct} anndata\")\n",
    "        adata = sc.read_h5ad(h5ad_path)\n",
    "        adata.var[\"feature_is_filtered\"] = adata.var.feature_is_filtered == 1\n",
    "        adata.var[\"gene_name\"] = adata.var.index\n",
    "        adata.var.set_index(\"gene.ids\", inplace=True)\n",
    "        adata.obs = convert_float32(adata.obs)\n",
    "        adata.var = convert_float32(adata.var)\n",
    "        adata.obs = convert_categoricals(adata.obs)\n",
    "        adata.var = convert_categoricals(adata.var)\n",
    "        adata.obs[\"is_primary_data\"] = False\n",
    "        adata.uns[\"schema_version\"] = \"3.0.0\"\n",
    "        adata.uns[\"title\"] = desc.loc[desc[\"object\"] == ct, \"study_description\"].iloc[0]\n",
    "        # Convert relevant columns to categorical\n",
    "        # to_cat = [\"doublet\", \"author_sample_id\", \"Phase\", \"cell_id\"]\n",
    "        # adata.obs[to_cat] = adata.obs[to_cat].apply(pd.Categorical)\n",
    "        # Float32 matrices\n",
    "        adata.X = scipy.sparse.csr_matrix(adata.X, dtype = np.float32)\n",
    "        raw = adata.raw.to_adata()\n",
    "        raw.X = scipy.sparse.csr_matrix(raw.X, dtype = np.float32)    \n",
    "        adata.raw = raw\n",
    "        \n",
    "        if save:\n",
    "            print(f\"Saving to {final_out}\")\n",
    "            adata.write_h5ad(filename=final_out, compression=\"gzip\")\n",
    "        if return_adata:\n",
    "            return adata"
   ]
  },
  {
   "cell_type": "code",
   "execution_count": 9,
   "id": "09ff8b85-1104-41dc-a86a-f2971a0f82e5",
   "metadata": {},
   "outputs": [
    {
     "name": "stdout",
     "output_type": "stream",
     "text": [
      "Celltype: Ovarian.cancer.cell -- objects/Ovarian.cancer.cell.h5ad\n",
      "Skipping Ovarian.cancer.cell. Final output exists: ./objects/Ovarian.cancer.cell_cellxgene.h5ad\n",
      "Celltype: T.super -- objects/T.super.h5ad\n",
      "Compressing and formating T.super anndata\n"
     ]
    },
    {
     "name": "stderr",
     "output_type": "stream",
     "text": [
      "/home/zatzmanm/work/miniconda3/envs/scanpy_new/lib/python3.10/site-packages/anndata/_core/raw.py:139: FutureWarning: X.dtype being converted to np.float32 from float64. In the next version of anndata (0.9) conversion will not be automatic. Pass dtype explicitly to avoid this warning. Pass `AnnData(X, dtype=X.dtype, ...)` to get the future behavour.\n",
      "  return anndata.AnnData(\n"
     ]
    },
    {
     "name": "stdout",
     "output_type": "stream",
     "text": [
      "Saving to ./objects/T.super_cellxgene.h5ad\n",
      "Celltype: Myeloid.super -- objects/Myeloid.super.h5ad\n",
      "Compressing and formating Myeloid.super anndata\n"
     ]
    },
    {
     "name": "stderr",
     "output_type": "stream",
     "text": [
      "/home/zatzmanm/work/miniconda3/envs/scanpy_new/lib/python3.10/site-packages/anndata/_core/raw.py:139: FutureWarning: X.dtype being converted to np.float32 from float64. In the next version of anndata (0.9) conversion will not be automatic. Pass dtype explicitly to avoid this warning. Pass `AnnData(X, dtype=X.dtype, ...)` to get the future behavour.\n",
      "  return anndata.AnnData(\n"
     ]
    },
    {
     "name": "stdout",
     "output_type": "stream",
     "text": [
      "Saving to ./objects/Myeloid.super_cellxgene.h5ad\n",
      "Celltype: CD8.T -- objects/CD8.T.h5ad\n",
      "Compressing and formating CD8.T anndata\n"
     ]
    },
    {
     "name": "stderr",
     "output_type": "stream",
     "text": [
      "/home/zatzmanm/work/miniconda3/envs/scanpy_new/lib/python3.10/site-packages/anndata/_core/raw.py:139: FutureWarning: X.dtype being converted to np.float32 from float64. In the next version of anndata (0.9) conversion will not be automatic. Pass dtype explicitly to avoid this warning. Pass `AnnData(X, dtype=X.dtype, ...)` to get the future behavour.\n",
      "  return anndata.AnnData(\n"
     ]
    },
    {
     "name": "stdout",
     "output_type": "stream",
     "text": [
      "Saving to ./objects/CD8.T_cellxgene.h5ad\n",
      "Celltype: DCs -- objects/DCs.h5ad\n",
      "Compressing and formating DCs anndata\n"
     ]
    },
    {
     "name": "stderr",
     "output_type": "stream",
     "text": [
      "/home/zatzmanm/work/miniconda3/envs/scanpy_new/lib/python3.10/site-packages/anndata/_core/raw.py:139: FutureWarning: X.dtype being converted to np.float32 from float64. In the next version of anndata (0.9) conversion will not be automatic. Pass dtype explicitly to avoid this warning. Pass `AnnData(X, dtype=X.dtype, ...)` to get the future behavour.\n",
      "  return anndata.AnnData(\n"
     ]
    },
    {
     "name": "stdout",
     "output_type": "stream",
     "text": [
      "Saving to ./objects/DCs_cellxgene.h5ad\n",
      "Celltype: Macrophages -- objects/Macrophages.h5ad\n",
      "Compressing and formating Macrophages anndata\n"
     ]
    },
    {
     "name": "stderr",
     "output_type": "stream",
     "text": [
      "/home/zatzmanm/work/miniconda3/envs/scanpy_new/lib/python3.10/site-packages/anndata/_core/raw.py:139: FutureWarning: X.dtype being converted to np.float32 from float64. In the next version of anndata (0.9) conversion will not be automatic. Pass dtype explicitly to avoid this warning. Pass `AnnData(X, dtype=X.dtype, ...)` to get the future behavour.\n",
      "  return anndata.AnnData(\n"
     ]
    },
    {
     "name": "stdout",
     "output_type": "stream",
     "text": [
      "Saving to ./objects/Macrophages_cellxgene.h5ad\n"
     ]
    }
   ],
   "source": [
    "# Loop and save\n",
    "for ct in file_list:\n",
    "    adata = format_cellxgene(h5ad_path=f\"{file_list[ct]}.h5ad\", ct = ct, overwrite = False, save = True)"
   ]
  }
 ],
 "metadata": {
  "kernelspec": {
   "display_name": "Python [conda env:scanpy_new]",
   "language": "python",
   "name": "conda-env-scanpy_new-py"
  },
  "language_info": {
   "codemirror_mode": {
    "name": "ipython",
    "version": 3
   },
   "file_extension": ".py",
   "mimetype": "text/x-python",
   "name": "python",
   "nbconvert_exporter": "python",
   "pygments_lexer": "ipython3",
   "version": "3.10.6"
  },
  "vscode": {
   "interpreter": {
    "hash": "a9683a3ba62b0f40b3bf6593e986095efa9303902d9791f7bbee0e4e6aa51ec9"
   }
  }
 },
 "nbformat": 4,
 "nbformat_minor": 5
}
